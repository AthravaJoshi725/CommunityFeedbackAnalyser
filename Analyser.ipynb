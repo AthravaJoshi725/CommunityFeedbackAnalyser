{
 "cells": [
  {
   "cell_type": "code",
   "execution_count": 1,
   "metadata": {},
   "outputs": [
    {
     "name": "stdout",
     "output_type": "stream",
     "text": [
      "Accuracy score: 0.7783220433821714\n"
     ]
    }
   ],
   "source": [
    "import pandas as pd\n",
    "import numpy as np\n",
    "import matplotlib.pyplot as plt\n",
    "import seaborn as sns\n",
    "import re\n",
    "from nltk.corpus import stopwords\n",
    "from nltk.stem.porter import PorterStemmer\n",
    "from sklearn.model_selection import train_test_split\n",
    "from sklearn.feature_extraction.text import TfidfVectorizer\n",
    "from sklearn.linear_model import LogisticRegression\n",
    "from sklearn.metrics import accuracy_score\n",
    "import warnings\n",
    "import nltk\n",
    "import pickle\n",
    "\n",
    "# Load data\n",
    "twitter_data = pd.read_csv('stemmed_twitterdata.csv')\n",
    "\n",
    "# Handle missing values by dropping rows with NaN in 'stemmed_content'\n",
    "twitter_data = twitter_data.dropna(subset=['stemmed_content'])\n",
    "\n",
    "# Separating data and the labels\n",
    "X = twitter_data['stemmed_content'].values\n",
    "y = twitter_data['target'].values\n",
    "\n",
    "# Splitting the data\n",
    "X_train, X_test, y_train, y_test = train_test_split(X, y, test_size=0.2, stratify=y, random_state=2)\n",
    "\n",
    "# Converting textual data into numerical data\n",
    "vectorizer = TfidfVectorizer()\n",
    "X_train = vectorizer.fit_transform(X_train)\n",
    "X_test = vectorizer.transform(X_test)\n",
    "\n",
    "# Training the model - logistic regression\n",
    "logistic_model = LogisticRegression(max_iter=1000)\n",
    "logistic_model.fit(X_train, y_train)\n",
    "\n",
    "# Model Evaluation\n",
    "# Accuracy score on testing data\n",
    "X_test_pred = logistic_model.predict(X_test)\n",
    "test_data_accuracy = accuracy_score(X_test_pred, y_test)\n",
    "print('Accuracy score:', test_data_accuracy)  # Model accuracy on test data\n",
    "\n",
    "# Save the trained model and vectorizer\n",
    "model_filename = 'trained_model.sav'\n",
    "pickle.dump(logistic_model, open(model_filename, 'wb'))\n",
    "\n",
    "vectorizer_filename = 'tfidf_vectorizer.sav'\n",
    "pickle.dump(vectorizer, open(vectorizer_filename, 'wb'))\n"
   ]
  },
  {
   "cell_type": "code",
   "execution_count": null,
   "metadata": {},
   "outputs": [],
   "source": []
  }
 ],
 "metadata": {
  "kernelspec": {
   "display_name": "Python 3",
   "language": "python",
   "name": "python3"
  },
  "language_info": {
   "codemirror_mode": {
    "name": "ipython",
    "version": 3
   },
   "file_extension": ".py",
   "mimetype": "text/x-python",
   "name": "python",
   "nbconvert_exporter": "python",
   "pygments_lexer": "ipython3",
   "version": "3.12.3"
  }
 },
 "nbformat": 4,
 "nbformat_minor": 2
}
